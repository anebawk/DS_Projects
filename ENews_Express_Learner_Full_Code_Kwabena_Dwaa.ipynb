{
  "cells": [
    {
      "cell_type": "markdown",
      "metadata": {
        "id": "view-in-github",
        "colab_type": "text"
      },
      "source": [
        "<a href=\"https://colab.research.google.com/github/anebawk/DS_Projects/blob/main/ENews_Express_Learner_Full_Code_Kwabena_Dwaa.ipynb\" target=\"_parent\"><img src=\"https://colab.research.google.com/assets/colab-badge.svg\" alt=\"Open In Colab\"/></a>"
      ]
    },
    {
      "cell_type": "markdown",
      "id": "6yDxo9u0d9Na",
      "metadata": {
        "id": "6yDxo9u0d9Na"
      },
      "source": [
        "# Project Business Statistics: E-news Express"
      ]
    },
    {
      "cell_type": "markdown",
      "id": "SrLd-ICEmPSD",
      "metadata": {
        "id": "SrLd-ICEmPSD"
      },
      "source": [
        "## Define Problem Statement and Objectives"
      ]
    },
    {
      "cell_type": "markdown",
      "id": "9Vt1PLLqmXNn",
      "metadata": {
        "id": "9Vt1PLLqmXNn"
      },
      "source": [
        "### Problem Statement\n",
        "E-news Express, an online news portal, aims to expand its business by acquiring new subscribers. With every visitor to the website taking certain actions based on their interest, the company plans to analyze these actions to understand user interests and determine how to drive better engagement. The executives at E-news Express are of the opinion that there has been a decline in new monthly subscribers compared to the past year because the current webpage is not designed well enough in terms of the outline & recommended content to keep customers engaged long enough to make a decision to subscribe.\n",
        "\n",
        "#### Objectives:\n",
        "\n",
        "The design team of the company has researched and created a new landing page that has a new outline & more relevant content shown compared to the old page. In order to test the effectiveness of the new landing page in gathering new subscribers, the Data Science team conducted an experiment by randomly selecting 100 users and dividing them equally into two groups. The existing landing page was served to the first group (control group) and the new landing page to the second group (treatment group). Data regarding the interaction of users in both groups with the two versions of the landing page was collected. Being a data scientist in E-news Express, you have been asked to explore the data and perform a statistical analysis (at a significance level of 5%) to determine the effectiveness of the new landing page in gathering new subscribers for the news portal by answering the following questions:\n",
        "\n",
        "1. Do the users spend more time on the new landing page than on the existing landing page?\n",
        "2. Is the conversion rate (the proportion of users who visit the landing page and get converted) for the new        page greater than the conversion rate for the old page?\n",
        "3. Does the converted status depend on the preferred language? [Hint: Create a contingency table using the         pandas.crosstab() function]\n",
        "\n",
        "Is the time spent on the new page the same for the different language users?\n",
        "\n",
        "### Data Dictionary\n",
        "\n",
        "The data contains information regarding the interaction of users in both groups with the two versions of the landing page.\n",
        "\n",
        "user_id - Unique user ID of the person visiting the website\n",
        "\n",
        "group - Whether the user belongs to the first group (control) or the second group (treatment)\n",
        "\n",
        "landing_page - Whether the landing page is new or old\n",
        "\n",
        "time_spent_on_the_page - Time (in minutes) spent by the user on the landing page\n",
        "\n",
        "converted - Whether the user gets converted to a subscriber of the news portal or not\n",
        "\n",
        "language_preferred - Language chosen by the user to view the landing page"
      ]
    },
    {
      "cell_type": "markdown",
      "id": "a6a3d218",
      "metadata": {
        "id": "a6a3d218"
      },
      "source": [
        "## Import all the necessary libraries"
      ]
    },
    {
      "cell_type": "code",
      "execution_count": null,
      "id": "658c5dec",
      "metadata": {
        "id": "658c5dec"
      },
      "outputs": [],
      "source": [
        "# importing the necessary libraries\n",
        "import numpy as np\n",
        "import pandas as pd\n",
        "from matplotlib import pyplot as plt\n",
        "import seaborn as sns\n",
        "from scipy.stats import ttest_ind"
      ]
    },
    {
      "cell_type": "markdown",
      "id": "6970dd99",
      "metadata": {
        "id": "6970dd99"
      },
      "source": [
        "### Reading the Data into a DataFrame"
      ]
    },
    {
      "cell_type": "code",
      "execution_count": null,
      "id": "d3b95640",
      "metadata": {
        "id": "d3b95640"
      },
      "outputs": [],
      "source": [
        "# importing the Data and reading the DataFrame\n",
        "df = pd.read_csv('/Users/coby/Desktop/PGP-DSBA_Texas/Buiness statistics/Project work BS/abtest.csv.xls')"
      ]
    },
    {
      "cell_type": "markdown",
      "id": "9d75cfa2",
      "metadata": {
        "id": "9d75cfa2"
      },
      "source": [
        "## Explore the dataset and extract insights using Exploratory Data Analysis"
      ]
    },
    {
      "cell_type": "markdown",
      "id": "94ffce94",
      "metadata": {
        "id": "94ffce94"
      },
      "source": [
        "#### Checking the first few rows of the Dataset"
      ]
    },
    {
      "cell_type": "code",
      "execution_count": null,
      "id": "e1ad11d4",
      "metadata": {
        "id": "e1ad11d4",
        "outputId": "c64122c2-6288-4567-e699-3c930ee7aeee"
      },
      "outputs": [
        {
          "data": {
            "text/html": [
              "<div>\n",
              "<style scoped>\n",
              "    .dataframe tbody tr th:only-of-type {\n",
              "        vertical-align: middle;\n",
              "    }\n",
              "\n",
              "    .dataframe tbody tr th {\n",
              "        vertical-align: top;\n",
              "    }\n",
              "\n",
              "    .dataframe thead th {\n",
              "        text-align: right;\n",
              "    }\n",
              "</style>\n",
              "<table border=\"1\" class=\"dataframe\">\n",
              "  <thead>\n",
              "    <tr style=\"text-align: right;\">\n",
              "      <th></th>\n",
              "      <th>user_id</th>\n",
              "      <th>group</th>\n",
              "      <th>landing_page</th>\n",
              "      <th>time_spent_on_the_page</th>\n",
              "      <th>converted</th>\n",
              "      <th>language_preferred</th>\n",
              "    </tr>\n",
              "  </thead>\n",
              "  <tbody>\n",
              "    <tr>\n",
              "      <th>0</th>\n",
              "      <td>546592</td>\n",
              "      <td>control</td>\n",
              "      <td>old</td>\n",
              "      <td>3.48</td>\n",
              "      <td>no</td>\n",
              "      <td>Spanish</td>\n",
              "    </tr>\n",
              "    <tr>\n",
              "      <th>1</th>\n",
              "      <td>546468</td>\n",
              "      <td>treatment</td>\n",
              "      <td>new</td>\n",
              "      <td>7.13</td>\n",
              "      <td>yes</td>\n",
              "      <td>English</td>\n",
              "    </tr>\n",
              "    <tr>\n",
              "      <th>2</th>\n",
              "      <td>546462</td>\n",
              "      <td>treatment</td>\n",
              "      <td>new</td>\n",
              "      <td>4.40</td>\n",
              "      <td>no</td>\n",
              "      <td>Spanish</td>\n",
              "    </tr>\n",
              "    <tr>\n",
              "      <th>3</th>\n",
              "      <td>546567</td>\n",
              "      <td>control</td>\n",
              "      <td>old</td>\n",
              "      <td>3.02</td>\n",
              "      <td>no</td>\n",
              "      <td>French</td>\n",
              "    </tr>\n",
              "    <tr>\n",
              "      <th>4</th>\n",
              "      <td>546459</td>\n",
              "      <td>treatment</td>\n",
              "      <td>new</td>\n",
              "      <td>4.75</td>\n",
              "      <td>yes</td>\n",
              "      <td>Spanish</td>\n",
              "    </tr>\n",
              "  </tbody>\n",
              "</table>\n",
              "</div>"
            ],
            "text/plain": [
              "   user_id      group landing_page  time_spent_on_the_page converted  \\\n",
              "0   546592    control          old                    3.48        no   \n",
              "1   546468  treatment          new                    7.13       yes   \n",
              "2   546462  treatment          new                    4.40        no   \n",
              "3   546567    control          old                    3.02        no   \n",
              "4   546459  treatment          new                    4.75       yes   \n",
              "\n",
              "  language_preferred  \n",
              "0            Spanish  \n",
              "1            English  \n",
              "2            Spanish  \n",
              "3             French  \n",
              "4            Spanish  "
            ]
          },
          "execution_count": 3,
          "metadata": {},
          "output_type": "execute_result"
        }
      ],
      "source": [
        "# Viewing the first few row of the dataset\n",
        "df.head()"
      ]
    },
    {
      "cell_type": "markdown",
      "id": "7139cbb4",
      "metadata": {
        "id": "7139cbb4"
      },
      "source": [
        "The dataset has loaded correctly and reflects the data dictionary provided."
      ]
    },
    {
      "cell_type": "markdown",
      "id": "79e2d0f2",
      "metadata": {
        "id": "79e2d0f2"
      },
      "source": [
        "#### Checking the last few rows of the Dataset"
      ]
    },
    {
      "cell_type": "code",
      "execution_count": null,
      "id": "0bfeb115",
      "metadata": {
        "id": "0bfeb115",
        "outputId": "3004f2c2-1e55-4114-a306-ca51014167af"
      },
      "outputs": [
        {
          "data": {
            "text/html": [
              "<div>\n",
              "<style scoped>\n",
              "    .dataframe tbody tr th:only-of-type {\n",
              "        vertical-align: middle;\n",
              "    }\n",
              "\n",
              "    .dataframe tbody tr th {\n",
              "        vertical-align: top;\n",
              "    }\n",
              "\n",
              "    .dataframe thead th {\n",
              "        text-align: right;\n",
              "    }\n",
              "</style>\n",
              "<table border=\"1\" class=\"dataframe\">\n",
              "  <thead>\n",
              "    <tr style=\"text-align: right;\">\n",
              "      <th></th>\n",
              "      <th>user_id</th>\n",
              "      <th>group</th>\n",
              "      <th>landing_page</th>\n",
              "      <th>time_spent_on_the_page</th>\n",
              "      <th>converted</th>\n",
              "      <th>language_preferred</th>\n",
              "    </tr>\n",
              "  </thead>\n",
              "  <tbody>\n",
              "    <tr>\n",
              "      <th>95</th>\n",
              "      <td>546446</td>\n",
              "      <td>treatment</td>\n",
              "      <td>new</td>\n",
              "      <td>5.15</td>\n",
              "      <td>no</td>\n",
              "      <td>Spanish</td>\n",
              "    </tr>\n",
              "    <tr>\n",
              "      <th>96</th>\n",
              "      <td>546544</td>\n",
              "      <td>control</td>\n",
              "      <td>old</td>\n",
              "      <td>6.52</td>\n",
              "      <td>yes</td>\n",
              "      <td>English</td>\n",
              "    </tr>\n",
              "    <tr>\n",
              "      <th>97</th>\n",
              "      <td>546472</td>\n",
              "      <td>treatment</td>\n",
              "      <td>new</td>\n",
              "      <td>7.07</td>\n",
              "      <td>yes</td>\n",
              "      <td>Spanish</td>\n",
              "    </tr>\n",
              "    <tr>\n",
              "      <th>98</th>\n",
              "      <td>546481</td>\n",
              "      <td>treatment</td>\n",
              "      <td>new</td>\n",
              "      <td>6.20</td>\n",
              "      <td>yes</td>\n",
              "      <td>Spanish</td>\n",
              "    </tr>\n",
              "    <tr>\n",
              "      <th>99</th>\n",
              "      <td>546483</td>\n",
              "      <td>treatment</td>\n",
              "      <td>new</td>\n",
              "      <td>5.86</td>\n",
              "      <td>yes</td>\n",
              "      <td>English</td>\n",
              "    </tr>\n",
              "  </tbody>\n",
              "</table>\n",
              "</div>"
            ],
            "text/plain": [
              "    user_id      group landing_page  time_spent_on_the_page converted  \\\n",
              "95   546446  treatment          new                    5.15        no   \n",
              "96   546544    control          old                    6.52       yes   \n",
              "97   546472  treatment          new                    7.07       yes   \n",
              "98   546481  treatment          new                    6.20       yes   \n",
              "99   546483  treatment          new                    5.86       yes   \n",
              "\n",
              "   language_preferred  \n",
              "95            Spanish  \n",
              "96            English  \n",
              "97            Spanish  \n",
              "98            Spanish  \n",
              "99            English  "
            ]
          },
          "execution_count": 4,
          "metadata": {},
          "output_type": "execute_result"
        }
      ],
      "source": [
        "# Checking the last few rows of the dataset\n",
        "df.tail()"
      ]
    },
    {
      "cell_type": "markdown",
      "id": "ee2965b6",
      "metadata": {
        "id": "ee2965b6"
      },
      "source": [
        "Just as the first few rows, the last few rows also corresponds to the the data dictionary and has the same Dataframe as the first few rows."
      ]
    },
    {
      "cell_type": "markdown",
      "id": "6b77b229",
      "metadata": {
        "id": "6b77b229"
      },
      "source": [
        "#### Checking the Shape of the Dataset"
      ]
    },
    {
      "cell_type": "code",
      "execution_count": null,
      "id": "064d7706",
      "metadata": {
        "id": "064d7706",
        "outputId": "784a4f15-3361-426f-b342-c00c43b1887d"
      },
      "outputs": [
        {
          "data": {
            "text/plain": [
              "(100, 6)"
            ]
          },
          "execution_count": 5,
          "metadata": {},
          "output_type": "execute_result"
        }
      ],
      "source": [
        "# checking the shape of the the data\n",
        "df.shape"
      ]
    },
    {
      "cell_type": "markdown",
      "id": "bfa553b0",
      "metadata": {
        "id": "bfa553b0"
      },
      "source": [
        "The dataset has 100 rows and 6 columns."
      ]
    },
    {
      "cell_type": "markdown",
      "id": "9f9a5fd2",
      "metadata": {
        "id": "9f9a5fd2"
      },
      "source": [
        "#### Checking the data types of the columns of the dataset"
      ]
    },
    {
      "cell_type": "code",
      "execution_count": null,
      "id": "3b1164e0",
      "metadata": {
        "id": "3b1164e0",
        "outputId": "7e5f6687-ad3f-4351-8337-dfbf3b56b90c"
      },
      "outputs": [
        {
          "name": "stdout",
          "output_type": "stream",
          "text": [
            "<class 'pandas.core.frame.DataFrame'>\n",
            "RangeIndex: 100 entries, 0 to 99\n",
            "Data columns (total 6 columns):\n",
            " #   Column                  Non-Null Count  Dtype  \n",
            "---  ------                  --------------  -----  \n",
            " 0   user_id                 100 non-null    int64  \n",
            " 1   group                   100 non-null    object \n",
            " 2   landing_page            100 non-null    object \n",
            " 3   time_spent_on_the_page  100 non-null    float64\n",
            " 4   converted               100 non-null    object \n",
            " 5   language_preferred      100 non-null    object \n",
            "dtypes: float64(1), int64(1), object(4)\n",
            "memory usage: 4.8+ KB\n"
          ]
        }
      ],
      "source": [
        "# checking the data types of the various columns of the dataset\n",
        "df.info()"
      ]
    },
    {
      "cell_type": "markdown",
      "id": "8731ca61",
      "metadata": {
        "id": "8731ca61"
      },
      "source": [
        "Observations:\n",
        "- The dataset consist of 2 numerical columns and 5 object type columns and a memory usage of 4.8KB"
      ]
    },
    {
      "cell_type": "markdown",
      "id": "221fa9eb",
      "metadata": {
        "id": "221fa9eb"
      },
      "source": [
        "#### Checking for missing values in the dataset"
      ]
    },
    {
      "cell_type": "code",
      "execution_count": null,
      "id": "6a3c9ed2",
      "metadata": {
        "id": "6a3c9ed2",
        "outputId": "871e0b45-8235-40cc-98c5-8475f3e5bec1"
      },
      "outputs": [
        {
          "data": {
            "text/plain": [
              "user_id                   0\n",
              "group                     0\n",
              "landing_page              0\n",
              "time_spent_on_the_page    0\n",
              "converted                 0\n",
              "language_preferred        0\n",
              "dtype: int64"
            ]
          },
          "execution_count": 7,
          "metadata": {},
          "output_type": "execute_result"
        }
      ],
      "source": [
        "# checking for missing values in the data\n",
        "df.isnull().sum()"
      ]
    },
    {
      "cell_type": "markdown",
      "id": "b4e787e3",
      "metadata": {
        "id": "b4e787e3"
      },
      "source": [
        "Observations:\n",
        "- There are no null values in the dataset"
      ]
    },
    {
      "cell_type": "markdown",
      "id": "87cba716",
      "metadata": {
        "id": "87cba716"
      },
      "source": [
        "#### Checking the statistical summary of the variables"
      ]
    },
    {
      "cell_type": "code",
      "execution_count": null,
      "id": "090463cc",
      "metadata": {
        "scrolled": true,
        "id": "090463cc",
        "outputId": "5019c03a-50fa-48bf-dc4c-533f16b0ea82"
      },
      "outputs": [
        {
          "data": {
            "text/html": [
              "<div>\n",
              "<style scoped>\n",
              "    .dataframe tbody tr th:only-of-type {\n",
              "        vertical-align: middle;\n",
              "    }\n",
              "\n",
              "    .dataframe tbody tr th {\n",
              "        vertical-align: top;\n",
              "    }\n",
              "\n",
              "    .dataframe thead th {\n",
              "        text-align: right;\n",
              "    }\n",
              "</style>\n",
              "<table border=\"1\" class=\"dataframe\">\n",
              "  <thead>\n",
              "    <tr style=\"text-align: right;\">\n",
              "      <th></th>\n",
              "      <th>count</th>\n",
              "      <th>mean</th>\n",
              "      <th>std</th>\n",
              "      <th>min</th>\n",
              "      <th>25%</th>\n",
              "      <th>50%</th>\n",
              "      <th>75%</th>\n",
              "      <th>max</th>\n",
              "    </tr>\n",
              "  </thead>\n",
              "  <tbody>\n",
              "    <tr>\n",
              "      <th>user_id</th>\n",
              "      <td>100.0</td>\n",
              "      <td>546517.0000</td>\n",
              "      <td>52.295779</td>\n",
              "      <td>546443.00</td>\n",
              "      <td>546467.75</td>\n",
              "      <td>546492.500</td>\n",
              "      <td>546567.2500</td>\n",
              "      <td>546592.00</td>\n",
              "    </tr>\n",
              "    <tr>\n",
              "      <th>time_spent_on_the_page</th>\n",
              "      <td>100.0</td>\n",
              "      <td>5.3778</td>\n",
              "      <td>2.378166</td>\n",
              "      <td>0.19</td>\n",
              "      <td>3.88</td>\n",
              "      <td>5.415</td>\n",
              "      <td>7.0225</td>\n",
              "      <td>10.71</td>\n",
              "    </tr>\n",
              "  </tbody>\n",
              "</table>\n",
              "</div>"
            ],
            "text/plain": [
              "                        count         mean        std        min        25%  \\\n",
              "user_id                 100.0  546517.0000  52.295779  546443.00  546467.75   \n",
              "time_spent_on_the_page  100.0       5.3778   2.378166       0.19       3.88   \n",
              "\n",
              "                               50%          75%        max  \n",
              "user_id                 546492.500  546567.2500  546592.00  \n",
              "time_spent_on_the_page       5.415       7.0225      10.71  "
            ]
          },
          "execution_count": 8,
          "metadata": {},
          "output_type": "execute_result"
        }
      ],
      "source": [
        "# checking the statistical summary of the variables\n",
        "df.describe().T"
      ]
    },
    {
      "cell_type": "markdown",
      "id": "d921d255",
      "metadata": {
        "id": "d921d255"
      },
      "source": [
        "Observation\n",
        "- The average time spent on a page is 5.38 minutes. The higest time spend on a landing page is 10.71 minutes         whiles the lowest time spent on a page is 0.19 minutes.\n",
        "- 75% of users spend 7.02 minutes on the page."
      ]
    },
    {
      "cell_type": "markdown",
      "id": "54e44a00",
      "metadata": {
        "id": "54e44a00"
      },
      "source": [
        "#### Checking for Duplicates in the dataset"
      ]
    },
    {
      "cell_type": "code",
      "execution_count": null,
      "id": "bfd70fdb",
      "metadata": {
        "id": "bfd70fdb",
        "outputId": "ff61e508-d7ce-4f1c-fb9e-850b7f644e72"
      },
      "outputs": [
        {
          "data": {
            "text/plain": [
              "0"
            ]
          },
          "execution_count": 9,
          "metadata": {},
          "output_type": "execute_result"
        }
      ],
      "source": [
        "df.duplicated().sum()"
      ]
    },
    {
      "cell_type": "markdown",
      "id": "f0c6ebf9",
      "metadata": {
        "id": "f0c6ebf9"
      },
      "source": [
        "Observation:\n",
        "- There are are duplications in the Dataset"
      ]
    },
    {
      "cell_type": "markdown",
      "id": "68f3b2c9",
      "metadata": {
        "id": "68f3b2c9"
      },
      "source": [
        "### Univariate Analysis"
      ]
    },
    {
      "cell_type": "markdown",
      "id": "d5af6353",
      "metadata": {
        "id": "d5af6353"
      },
      "source": [
        "#### Time spent on the page"
      ]
    },
    {
      "cell_type": "code",
      "execution_count": null,
      "id": "e3b8e6e4",
      "metadata": {
        "scrolled": false,
        "id": "e3b8e6e4",
        "outputId": "9d8d8851-6921-4e55-f4f3-5f98d343a4ef"
      },
      "outputs": [
        {
          "data": {
            "image/png": "[encoded data removed]",
            "text/plain": [
              "<Figure size 640x480 with 1 Axes>"
            ]
          },
          "metadata": {},
          "output_type": "display_data"
        },
        {
          "data": {
            "image/png": "[encoded data removed]",
            "text/plain": [
              "<Figure size 640x480 with 1 Axes>"
            ]
          },
          "metadata": {},
          "output_type": "display_data"
        }
      ],
      "source": [
        "# Observations on the time spent on the page\n",
        "sns.histplot(data=df,x='time_spent_on_the_page') # making a histogram for time spent on the page\n",
        "plt.show()\n",
        "sns.boxplot(data=df,x='time_spent_on_the_page') # making a boxplot for time spend on the page\n",
        "plt.show()"
      ]
    },
    {
      "cell_type": "markdown",
      "id": "c55278fc",
      "metadata": {
        "id": "c55278fc"
      },
      "source": [
        "Observations:\n",
        "- Time spent on the page is a normal distribution\n",
        "- The minimum time spent on a page is 0.2 minutes\n",
        "- users who vist the page spend an average of 5.4 minuts on the page whiles the maximum time spent on the page   is about 10.7 minutes.\n"
      ]
    },
    {
      "cell_type": "markdown",
      "id": "405319f6",
      "metadata": {
        "id": "405319f6"
      },
      "source": [
        "#### Group"
      ]
    },
    {
      "cell_type": "code",
      "execution_count": null,
      "id": "7146cf32",
      "metadata": {
        "id": "7146cf32",
        "outputId": "9329afd7-90e7-4a22-a354-97174fe9d93a"
      },
      "outputs": [
        {
          "data": {
            "text/plain": [
              "control      50\n",
              "treatment    50\n",
              "Name: group, dtype: int64"
            ]
          },
          "execution_count": 11,
          "metadata": {},
          "output_type": "execute_result"
        }
      ],
      "source": [
        "# checking the unique counts in group\n",
        "df['group'].value_counts()"
      ]
    },
    {
      "cell_type": "code",
      "execution_count": null,
      "id": "df024763",
      "metadata": {
        "id": "df024763",
        "outputId": "b110403b-0c31-4e1a-de14-dc6a34048f6e"
      },
      "outputs": [
        {
          "data": {
            "image/png": "[encoded data removed]",
            "text/plain": [
              "<Figure size 640x480 with 1 Axes>"
            ]
          },
          "metadata": {},
          "output_type": "display_data"
        }
      ],
      "source": [
        " sns.countplot(data=df, x= 'group'); # making a count of group."
      ]
    },
    {
      "cell_type": "markdown",
      "id": "9509efcc",
      "metadata": {
        "id": "9509efcc"
      },
      "source": [
        "Observations:\n",
        "- There are two uniques values in group i.e. control and treatment with each having a freequency count of 50       "
      ]
    },
    {
      "cell_type": "markdown",
      "id": "a5d8f380",
      "metadata": {
        "id": "a5d8f380"
      },
      "source": [
        "#### Landing page"
      ]
    },
    {
      "cell_type": "code",
      "execution_count": null,
      "id": "c352288d",
      "metadata": {
        "scrolled": true,
        "id": "c352288d",
        "outputId": "d0e5fd77-4289-4ca4-e4c6-3f51cd129fbc"
      },
      "outputs": [
        {
          "data": {
            "text/plain": [
              "old    50\n",
              "new    50\n",
              "Name: landing_page, dtype: int64"
            ]
          },
          "execution_count": 13,
          "metadata": {},
          "output_type": "execute_result"
        }
      ],
      "source": [
        "# checking the unique value and frequency of count of Landing page\n",
        "df['landing_page'].value_counts()"
      ]
    },
    {
      "cell_type": "code",
      "execution_count": null,
      "id": "81626ebb",
      "metadata": {
        "id": "81626ebb",
        "outputId": "44854f90-f0b5-4017-df97-23c3ff748234"
      },
      "outputs": [
        {
          "data": {
            "image/png": "[encoded data removed]",
            "text/plain": [
              "<Figure size 640x480 with 1 Axes>"
            ]
          },
          "metadata": {},
          "output_type": "display_data"
        }
      ],
      "source": [
        "# making a count plot of landing page\n",
        "sns.countplot(data=df, x='landing_page');"
      ]
    },
    {
      "cell_type": "markdown",
      "id": "fd801212",
      "metadata": {
        "id": "fd801212"
      },
      "source": [
        "Observations:\n",
        "- Similar to Group, Landing page also contains two unique value i.e. old and new with a frequency counts of   50 each"
      ]
    },
    {
      "cell_type": "markdown",
      "id": "aab34db3",
      "metadata": {
        "id": "aab34db3"
      },
      "source": [
        "#### Converted"
      ]
    },
    {
      "cell_type": "code",
      "execution_count": null,
      "id": "7fc85a01",
      "metadata": {
        "id": "7fc85a01",
        "outputId": "a20a829b-758e-4013-d761-da892bf17ec0"
      },
      "outputs": [
        {
          "data": {
            "text/plain": [
              "yes    54\n",
              "no     46\n",
              "Name: converted, dtype: int64"
            ]
          },
          "execution_count": 15,
          "metadata": {},
          "output_type": "execute_result"
        }
      ],
      "source": [
        "# Checking the unique values and frequency of count of Converted\n",
        "df['converted'].value_counts()"
      ]
    },
    {
      "cell_type": "code",
      "execution_count": null,
      "id": "649a598c",
      "metadata": {
        "id": "649a598c",
        "outputId": "f932c3bb-7c32-42c3-ffee-8bd398b8f50e"
      },
      "outputs": [
        {
          "data": {
            "image/png": "[encoded data removed]",
            "text/plain": [
              "<Figure size 640x480 with 1 Axes>"
            ]
          },
          "metadata": {},
          "output_type": "display_data"
        }
      ],
      "source": [
        "sns.countplot(data=df, x='converted'); #making a countplot to visualize converted"
      ]
    },
    {
      "cell_type": "markdown",
      "id": "075817cc",
      "metadata": {
        "id": "075817cc"
      },
      "source": [
        "Observation\n",
        "- Out of the 100 users who visited the landing pages 54 of the them got converted whiles 46 did not"
      ]
    },
    {
      "cell_type": "markdown",
      "id": "3bbcac55",
      "metadata": {
        "id": "3bbcac55"
      },
      "source": [
        "#### Language Preferred"
      ]
    },
    {
      "cell_type": "code",
      "execution_count": null,
      "id": "df916ed8",
      "metadata": {
        "id": "df916ed8",
        "outputId": "4b0a479c-a830-472a-f828-5bab0ca8c7ca"
      },
      "outputs": [
        {
          "data": {
            "text/plain": [
              "Spanish    34\n",
              "French     34\n",
              "English    32\n",
              "Name: language_preferred, dtype: int64"
            ]
          },
          "execution_count": 17,
          "metadata": {},
          "output_type": "execute_result"
        }
      ],
      "source": [
        "# checking the unique value and frequency of count of language preferred\n",
        "df['language_preferred'].value_counts()"
      ]
    },
    {
      "cell_type": "code",
      "execution_count": null,
      "id": "8cba7a98",
      "metadata": {
        "id": "8cba7a98",
        "outputId": "5249c4e3-09e4-4640-ade7-9d06c643eb93"
      },
      "outputs": [
        {
          "data": {
            "image/png": "[encoded data removed]",
            "text/plain": [
              "<Figure size 640x480 with 1 Axes>"
            ]
          },
          "metadata": {},
          "output_type": "display_data"
        }
      ],
      "source": [
        "# making a countplot to visualized language preferred by users\n",
        "sns.countplot(data=df, x='language_preferred');"
      ]
    },
    {
      "cell_type": "markdown",
      "id": "a6a04efd",
      "metadata": {
        "id": "a6a04efd"
      },
      "source": [
        "Observation:\n",
        "- Out of the 100 users,34 each preferred Spanish and French whiles the remaining 32 preferred English."
      ]
    },
    {
      "cell_type": "markdown",
      "id": "fad2de2f",
      "metadata": {
        "id": "fad2de2f"
      },
      "source": [
        "### Bivariate Analysis"
      ]
    },
    {
      "cell_type": "markdown",
      "id": "0d88c6b2",
      "metadata": {
        "id": "0d88c6b2"
      },
      "source": [
        "#### Time spent on the page vs conversion status"
      ]
    },
    {
      "cell_type": "code",
      "execution_count": null,
      "id": "58e9a1d0",
      "metadata": {
        "id": "58e9a1d0",
        "outputId": "430502c1-2852-4c0d-e3cd-2c3b4cae84eb"
      },
      "outputs": [
        {
          "data": {
            "image/png": "[encoded data removed]",
            "text/plain": [
              "<Figure size 500x500 with 1 Axes>"
            ]
          },
          "metadata": {},
          "output_type": "display_data"
        }
      ],
      "source": [
        "# ploting a box graph to understand the relationship between 'time_spent_on_the_page' and 'converted' columns\n",
        "plt.figure(figsize=(5, 5))\n",
        "sns.boxplot(data = df, x = 'converted' , y = 'time_spent_on_the_page');"
      ]
    },
    {
      "cell_type": "markdown",
      "id": "a12178b3",
      "metadata": {
        "id": "a12178b3"
      },
      "source": [
        "Obsevations:\n",
        "- 75% of users who converted spent around 7 minutes on a page.\n",
        "- 50% of users who converted  spent around 6.5 minutes on a page\n",
        "- 75% of users who dit not convert spent arond 5 minutes on a page.\n",
        "- 50%  of users who did not convert spent around 4 minutes"
      ]
    },
    {
      "cell_type": "markdown",
      "id": "6524be14",
      "metadata": {
        "id": "6524be14"
      },
      "source": [
        "#### Language preferred vs Time spent on the page"
      ]
    },
    {
      "cell_type": "code",
      "execution_count": null,
      "id": "e52836c3",
      "metadata": {
        "scrolled": false,
        "id": "e52836c3",
        "outputId": "246c3a4d-d2d8-49e4-a35f-c7de530a6afa"
      },
      "outputs": [
        {
          "data": {
            "image/png": "[encoded data removed]",
            "text/plain": [
              "<Figure size 640x480 with 1 Axes>"
            ]
          },
          "metadata": {},
          "output_type": "display_data"
        }
      ],
      "source": [
        "# making a boxplot to visualize the relationship between 'language preferred'  and 'Time spent on the page columns\n",
        "sns.boxplot(data=df, x='language_preferred', y='time_spent_on_the_page');"
      ]
    },
    {
      "cell_type": "markdown",
      "id": "89c501cb",
      "metadata": {
        "id": "89c501cb"
      },
      "source": [
        "Observation\n",
        "- 50% of users who prefer English spent an average 5.8 minutes on a page,\n",
        "- 50% of users who prefer Spansih spent an average  5.4 minutes on a page and\n",
        "- 50% of usres who prefer French spent an average  5.0 minutes on a page."
      ]
    },
    {
      "cell_type": "markdown",
      "id": "e4608a46",
      "metadata": {
        "id": "e4608a46"
      },
      "source": [
        "#### Landing page vs Time spent on the page"
      ]
    },
    {
      "cell_type": "code",
      "execution_count": null,
      "id": "df307212",
      "metadata": {
        "id": "df307212",
        "outputId": "5c7bb310-b353-461f-e2aa-5bc3dd8f2ea7"
      },
      "outputs": [
        {
          "data": {
            "image/png": "[encoded data removed]",
            "text/plain": [
              "<Figure size 640x480 with 1 Axes>"
            ]
          },
          "metadata": {},
          "output_type": "display_data"
        }
      ],
      "source": [
        "# making a boxplot to visualize the relationship between 'landing page'  and 'Time spent on the page columns\n",
        "sns.boxplot(data=df, x='landing_page', y='time_spent_on_the_page');"
      ]
    },
    {
      "cell_type": "markdown",
      "id": "f8ccc4bd",
      "metadata": {
        "id": "f8ccc4bd"
      },
      "source": [
        "Observations:\n",
        "- 75% of users spent 7 minutes on the new page whiles 75% of users on the old page spend around 6.2minutes.\n",
        "- 50% of users spent  6.1 minutes on the new page while 50% of users on the old page spent around 4.3         minutes."
      ]
    },
    {
      "cell_type": "markdown",
      "id": "27906576",
      "metadata": {
        "id": "27906576"
      },
      "source": [
        "## 1. Do the users spend more time on the new landing page than the existing landing page?"
      ]
    },
    {
      "cell_type": "markdown",
      "id": "e5fdf0c8",
      "metadata": {
        "id": "e5fdf0c8"
      },
      "source": [
        "### Perform Visual Analysis"
      ]
    },
    {
      "cell_type": "code",
      "execution_count": null,
      "id": "6eZJa41eg21n",
      "metadata": {
        "id": "6eZJa41eg21n",
        "outputId": "a105fa34-46ba-431a-e48a-419211984237"
      },
      "outputs": [
        {
          "data": {
            "image/png": "[encoded data removed]",
            "text/plain": [
              "<Figure size 500x400 with 1 Axes>"
            ]
          },
          "metadata": {},
          "output_type": "display_data"
        }
      ],
      "source": [
        "# visual analysis of the time spent on the new page and the time spent on the old page\n",
        "plt.figure(figsize=(5,4))\n",
        "sns.boxplot(x = 'landing_page', y = 'time_spent_on_the_page', data = df)\n",
        "plt.show()"
      ]
    },
    {
      "cell_type": "markdown",
      "id": "56b3dafd",
      "metadata": {
        "id": "56b3dafd"
      },
      "source": [
        "### Step 1: Define the null and alternate hypotheses"
      ]
    },
    {
      "cell_type": "markdown",
      "id": "d2ac77ef",
      "metadata": {
        "id": "d2ac77ef"
      },
      "source": [
        "Let $u_1$, $u_2$ be the mean time on new and old landing pages respectively\n",
        "\n",
        "$𝐻_0$: $𝑢_1$ = $𝑢_2$\n",
        "\n",
        "$𝐻_𝑎$: $𝑢_1$ > $𝑢_2$"
      ]
    },
    {
      "cell_type": "markdown",
      "id": "c7ee4907",
      "metadata": {
        "id": "c7ee4907"
      },
      "source": [
        "### Step 2: Select Appropriate test"
      ]
    },
    {
      "cell_type": "markdown",
      "id": "2c183cd7",
      "metadata": {
        "id": "2c183cd7"
      },
      "source": [
        "This is a one-tailed test concerning two population means from two independent populations. The population standard deviations are unknown. Based on this information, we will use two independent sample ttest."
      ]
    },
    {
      "cell_type": "markdown",
      "id": "3f58c9a7",
      "metadata": {
        "id": "3f58c9a7"
      },
      "source": [
        "### Step 3: Decide the significance level"
      ]
    },
    {
      "cell_type": "markdown",
      "id": "5a2b9799",
      "metadata": {
        "id": "5a2b9799"
      },
      "source": [
        "As given in the problem statement, we select  𝛼=0.05."
      ]
    },
    {
      "cell_type": "markdown",
      "id": "5fed2eac",
      "metadata": {
        "id": "5fed2eac"
      },
      "source": [
        "### Step 4: Collect and prepare data"
      ]
    },
    {
      "cell_type": "code",
      "execution_count": null,
      "id": "f5a59495",
      "metadata": {
        "id": "f5a59495"
      },
      "outputs": [],
      "source": [
        "# creating a new data frame for new landing page users\n",
        "newpage_time_spent = df[df['landing_page'] == 'new']['time_spent_on_the_page']\n",
        "\n",
        "# creating a new data frame for old landing page users\n",
        "oldpage_time_spent = df[df['landing_page'] == 'old']['time_spent_on_the_page']"
      ]
    },
    {
      "cell_type": "code",
      "execution_count": null,
      "id": "3877de9d",
      "metadata": {
        "id": "3877de9d",
        "outputId": "ef7e7551-1746-4c7b-e9cc-15300c50c4e2"
      },
      "outputs": [
        {
          "name": "stdout",
          "output_type": "stream",
          "text": [
            "The sample standard deviation of the time spent on the new page is: 1.82\n",
            "The sample standard deviation of the time spent on the new page is: 2.58\n"
          ]
        }
      ],
      "source": [
        "# calculating the standard deviation to confirm if they are significantly unequal.\n",
        "print('The sample standard deviation of the time spent on the new page is:', round(newpage_time_spent.std(),2))\n",
        "print('The sample standard deviation of the time spent on the new page is:', round(oldpage_time_spent.std(),2))"
      ]
    },
    {
      "cell_type": "markdown",
      "id": "f5c5258d",
      "metadata": {
        "id": "f5c5258d"
      },
      "source": [
        "### Step 5: Calculate the p-value"
      ]
    },
    {
      "cell_type": "code",
      "execution_count": null,
      "id": "fac8594a",
      "metadata": {
        "id": "fac8594a",
        "outputId": "5cc45ce5-d7f3-4ac4-d3dc-53520d8a804e"
      },
      "outputs": [
        {
          "name": "stdout",
          "output_type": "stream",
          "text": [
            "The p_value is 0.0001392381225166549\n"
          ]
        }
      ],
      "source": [
        "#importing the required functions\n",
        "from scipy.stats import ttest_ind\n",
        "test_stat, p_value = ttest_ind(newpage_time_spent, oldpage_time_spent,equal_var = False, alternative ='greater')\n",
        "print('The p_value is',p_value)"
      ]
    },
    {
      "cell_type": "markdown",
      "id": "359b12f8",
      "metadata": {
        "id": "359b12f8"
      },
      "source": [
        "### Step 6: Compare the p-value with $\\alpha$"
      ]
    },
    {
      "cell_type": "code",
      "execution_count": null,
      "id": "7be47289",
      "metadata": {
        "id": "7be47289",
        "outputId": "f55a5bae-9ec8-4cf9-aa67-90be5db566a7"
      },
      "outputs": [
        {
          "name": "stdout",
          "output_type": "stream",
          "text": [
            "As the p-value 0.0001392381225166549 is lesser than the level siginificance, we reject the null hypothesis.\n"
          ]
        }
      ],
      "source": [
        "# comparint the p_value with alpha\n",
        "if p_value < 0.05:\n",
        "    print(f'As the p-value {p_value} is lesser than the level siginificance, we reject the null hypothesis.')\n",
        "else:\n",
        "    print(f'As the p-value {p_value} is greater the level of significance, we fail to reject the null hypothesis.')\n"
      ]
    },
    {
      "cell_type": "markdown",
      "id": "d9affc84",
      "metadata": {
        "id": "d9affc84"
      },
      "source": [
        "### Step 7:  Draw inference"
      ]
    },
    {
      "cell_type": "markdown",
      "id": "6b16dd4b",
      "metadata": {
        "id": "6b16dd4b"
      },
      "source": [
        "Insight:\n",
        "As the p-value(0.000139) is much lesser then the level of significance we reject the null hypothesis. Hence we do have enough evidence to support the assertion that users spend more time on the new landing page than the old"
      ]
    },
    {
      "cell_type": "markdown",
      "id": "353e9d24",
      "metadata": {
        "id": "353e9d24"
      },
      "source": [
        "## 2. Is the conversion rate (the proportion of users who visit the landing page and get converted) for the new page greater than the conversion rate for the old page?"
      ]
    },
    {
      "cell_type": "markdown",
      "id": "85e4cdc1",
      "metadata": {
        "id": "85e4cdc1"
      },
      "source": [
        "### Perform Visual Analysis"
      ]
    },
    {
      "cell_type": "code",
      "execution_count": null,
      "id": "6e218f76",
      "metadata": {
        "id": "6e218f76",
        "outputId": "5f8e4432-1f3d-43cb-e8d6-39ffe3a658fc"
      },
      "outputs": [
        {
          "data": {
            "image/png": "[encoded data removed]",
            "text/plain": [
              "<Figure size 640x480 with 1 Axes>"
            ]
          },
          "metadata": {},
          "output_type": "display_data"
        }
      ],
      "source": [
        "# plotting to visually compare  conversion rate for the old and new landing pages\n",
        "pd.crosstab(df['landing_page'],df['converted'],normalize='index').plot(kind='bar',stacked=True);"
      ]
    },
    {
      "cell_type": "markdown",
      "id": "43d5180a",
      "metadata": {
        "id": "43d5180a"
      },
      "source": [
        "### Step 1: Define the null and  alternate Hypothesis"
      ]
    },
    {
      "cell_type": "markdown",
      "id": "528228e7",
      "metadata": {
        "id": "528228e7"
      },
      "source": [
        "Let $P_1$, $P_2$ be the mean conversion rate for old and new landing pages respectively\n",
        "\n",
        "$𝐻_0$: $P_1$ = $P_2$\n",
        "\n",
        "$𝐻_𝑎$: $P_1$ < $P_2$"
      ]
    },
    {
      "cell_type": "markdown",
      "id": "4d9bd624",
      "metadata": {
        "id": "4d9bd624"
      },
      "source": [
        "### Step 2: Select the Appropriate test"
      ]
    },
    {
      "cell_type": "markdown",
      "id": "4e1806de",
      "metadata": {
        "id": "4e1806de"
      },
      "source": [
        "This is a one-tailed, two population proportions from two independent population test, therefore we will use ztest"
      ]
    },
    {
      "cell_type": "markdown",
      "id": "066e5266",
      "metadata": {
        "id": "066e5266"
      },
      "source": [
        "### Step 3: Deciding the significance level"
      ]
    },
    {
      "cell_type": "markdown",
      "id": "dcea133c",
      "metadata": {
        "id": "dcea133c"
      },
      "source": [
        "the level is significance $\\alpha$ is given as 0.05"
      ]
    },
    {
      "cell_type": "markdown",
      "id": "167cc82a",
      "metadata": {
        "id": "167cc82a"
      },
      "source": [
        "### Step 4: Collect and prepare the data"
      ]
    },
    {
      "cell_type": "code",
      "execution_count": null,
      "id": "b13d43cb",
      "metadata": {
        "id": "b13d43cb"
      },
      "outputs": [],
      "source": [
        "# Calculate the converted users in the treatment group\n",
        "new_converted = df[df['group']=='treatment']['converted'].value_counts()['yes']\n",
        "# calculate the converted users in the control group\n",
        "old_converted = df[df['group']=='control']['converted'].value_counts()['yes']\n",
        "# total number of user in the control group\n",
        "total_no_control = df.group.value_counts()['control']\n",
        "# total number of use in the treatment group\n",
        "total_no_treatment = df.group.value_counts()['treatment']"
      ]
    },
    {
      "cell_type": "code",
      "execution_count": null,
      "id": "f7e23f8c",
      "metadata": {
        "id": "f7e23f8c",
        "outputId": "fc22db30-af91-49c4-d0c2-9de3a44c17b6"
      },
      "outputs": [
        {
          "name": "stdout",
          "output_type": "stream",
          "text": [
            "The number of user served on the new and old pages are 50 and 50 respectively\n"
          ]
        }
      ],
      "source": [
        "print('The number of user served on the new and old pages are {0} and {1} respectively'.format(total_no_control, total_no_treatment))"
      ]
    },
    {
      "cell_type": "markdown",
      "id": "afe682f3",
      "metadata": {
        "id": "afe682f3"
      },
      "source": [
        "### Step 5: Calculate the p-value"
      ]
    },
    {
      "cell_type": "code",
      "execution_count": null,
      "id": "29665b81",
      "metadata": {
        "id": "29665b81",
        "outputId": "416f95be-d6a8-4738-aa3a-9dfe0749d499"
      },
      "outputs": [
        {
          "data": {
            "text/plain": [
              "0.9919736917959437"
            ]
          },
          "execution_count": 30,
          "metadata": {},
          "output_type": "execute_result"
        }
      ],
      "source": [
        "# import the required function\n",
        "from statsmodels.stats.proportion import proportions_ztest\n",
        "# calculate the p-value\n",
        "test_stats, p_value = proportions_ztest([new_converted, old_converted],[total_no_control,total_no_treatment], alternative = 'smaller')\n",
        "p_value"
      ]
    },
    {
      "cell_type": "markdown",
      "id": "116cee4c",
      "metadata": {
        "id": "116cee4c"
      },
      "source": [
        "### Step 6 : Compare the p-value with $\\alpha$"
      ]
    },
    {
      "cell_type": "code",
      "execution_count": null,
      "id": "9ada4e6d",
      "metadata": {
        "id": "9ada4e6d",
        "outputId": "57d81d22-6251-4158-f2b3-0664f6d5cfa4"
      },
      "outputs": [
        {
          "name": "stdout",
          "output_type": "stream",
          "text": [
            "As the p-value 0.9919736917959437 is greater the level of significance we fail to reject the Null hypothesis.\n"
          ]
        }
      ],
      "source": [
        "# comparing the p-value to the level of significance\n",
        "if p_value < 0.05:\n",
        "    print(f'As the p-value {p_value} is lesser the level of significance we reject the Null hypothesis.')\n",
        "else:\n",
        "    print(f'As the p-value {p_value} is greater the level of significance we fail to reject the Null hypothesis.')"
      ]
    },
    {
      "cell_type": "markdown",
      "id": "79c48500",
      "metadata": {
        "id": "79c48500"
      },
      "source": [
        "### Step 7:  Draw inference"
      ]
    },
    {
      "cell_type": "markdown",
      "id": "86f3bcee",
      "metadata": {
        "id": "86f3bcee"
      },
      "source": [
        "Insight:\n",
        "- As the p-value is greater than the level of significance, we fail to reject the null hypothesis. Hence there is   not enough statistical evidence to conclude that the conversion rate of the new page is greater than old page"
      ]
    },
    {
      "cell_type": "markdown",
      "id": "d49bfa2d",
      "metadata": {
        "id": "d49bfa2d"
      },
      "source": [
        "## 3. Is the conversion and preferred language are independent or related?"
      ]
    },
    {
      "cell_type": "code",
      "execution_count": null,
      "id": "b0e63f17",
      "metadata": {
        "id": "b0e63f17",
        "scrolled": false,
        "outputId": "672a20ef-c065-4c3e-e100-488cfe08e45f"
      },
      "outputs": [
        {
          "data": {
            "image/png": "[encoded data removed]",
            "text/plain": [
              "<Figure size 640x480 with 1 Axes>"
            ]
          },
          "metadata": {},
          "output_type": "display_data"
        }
      ],
      "source": [
        "### Perform Visual Analysis\n",
        "pd.crosstab(df['converted'],df['language_preferred'],normalize='index').plot(kind='bar',stacked=True)\n",
        "plt.legend();"
      ]
    },
    {
      "cell_type": "markdown",
      "id": "8d4f0a36",
      "metadata": {
        "id": "8d4f0a36"
      },
      "source": [
        "### Step 1: Defining the null and alternate hypothesis"
      ]
    },
    {
      "cell_type": "markdown",
      "id": "f8b42294",
      "metadata": {
        "id": "f8b42294"
      },
      "source": [
        "$H_o$: converted status is dependant on preferred language\n",
        "\n",
        "$H_a$: converted status is not dependant on preferred language"
      ]
    },
    {
      "cell_type": "markdown",
      "id": "936cc691",
      "metadata": {
        "id": "936cc691"
      },
      "source": [
        "### Step 2:  Select Appropriate test"
      ]
    },
    {
      "cell_type": "markdown",
      "id": "57aa376a",
      "metadata": {
        "id": "57aa376a"
      },
      "source": [
        "- This is a problem of the test of independence, concerning two categorical variable- converted status and           preferred language. Therefore we will use chi2 contingency()"
      ]
    },
    {
      "cell_type": "markdown",
      "id": "9bb146e5",
      "metadata": {
        "id": "9bb146e5"
      },
      "source": [
        "### Step 3: Decide the significance level"
      ]
    },
    {
      "cell_type": "markdown",
      "id": "f7a697ff",
      "metadata": {
        "id": "f7a697ff"
      },
      "source": [
        "As given in the problem statement, we select $\\alpha$ = 0.05"
      ]
    },
    {
      "cell_type": "markdown",
      "id": "4c7415ba",
      "metadata": {
        "id": "4c7415ba"
      },
      "source": [
        "### Step 4: Collect and prepare data"
      ]
    },
    {
      "cell_type": "code",
      "execution_count": null,
      "id": "3279305c",
      "metadata": {
        "id": "3279305c",
        "outputId": "7b075ce3-ed55-4ad1-a051-4511b0d63429"
      },
      "outputs": [
        {
          "data": {
            "text/html": [
              "<div>\n",
              "<style scoped>\n",
              "    .dataframe tbody tr th:only-of-type {\n",
              "        vertical-align: middle;\n",
              "    }\n",
              "\n",
              "    .dataframe tbody tr th {\n",
              "        vertical-align: top;\n",
              "    }\n",
              "\n",
              "    .dataframe thead th {\n",
              "        text-align: right;\n",
              "    }\n",
              "</style>\n",
              "<table border=\"1\" class=\"dataframe\">\n",
              "  <thead>\n",
              "    <tr style=\"text-align: right;\">\n",
              "      <th>language_preferred</th>\n",
              "      <th>English</th>\n",
              "      <th>French</th>\n",
              "      <th>Spanish</th>\n",
              "    </tr>\n",
              "    <tr>\n",
              "      <th>converted</th>\n",
              "      <th></th>\n",
              "      <th></th>\n",
              "      <th></th>\n",
              "    </tr>\n",
              "  </thead>\n",
              "  <tbody>\n",
              "    <tr>\n",
              "      <th>no</th>\n",
              "      <td>11</td>\n",
              "      <td>19</td>\n",
              "      <td>16</td>\n",
              "    </tr>\n",
              "    <tr>\n",
              "      <th>yes</th>\n",
              "      <td>21</td>\n",
              "      <td>15</td>\n",
              "      <td>18</td>\n",
              "    </tr>\n",
              "  </tbody>\n",
              "</table>\n",
              "</div>"
            ],
            "text/plain": [
              "language_preferred  English  French  Spanish\n",
              "converted                                   \n",
              "no                       11      19       16\n",
              "yes                      21      15       18"
            ]
          },
          "execution_count": 33,
          "metadata": {},
          "output_type": "execute_result"
        }
      ],
      "source": [
        "# create a contingency table showing the distribution of the two categorical variables\n",
        "contingency_table = pd.crosstab(df['converted'],df['language_preferred'])\n",
        "contingency_table"
      ]
    },
    {
      "cell_type": "markdown",
      "id": "237c2b6c",
      "metadata": {
        "id": "237c2b6c"
      },
      "source": [
        "### Step 5: Calculating the p-value"
      ]
    },
    {
      "cell_type": "code",
      "execution_count": null,
      "id": "0cdb8dea",
      "metadata": {
        "id": "0cdb8dea",
        "outputId": "8692de99-90ec-42f8-ac1a-dfba227f1742"
      },
      "outputs": [
        {
          "data": {
            "text/plain": [
              "0.21298887487543447"
            ]
          },
          "execution_count": 34,
          "metadata": {},
          "output_type": "execute_result"
        }
      ],
      "source": [
        "# import the required function\n",
        "from scipy.stats import chi2_contingency\n",
        "# calculate the p-value\n",
        "chi, p_value, dof, expected = chi2_contingency(contingency_table)\n",
        "p_value"
      ]
    },
    {
      "cell_type": "markdown",
      "id": "bfe5e963",
      "metadata": {
        "id": "bfe5e963"
      },
      "source": [
        "### Step 6: Compare with p-value with $\\alpha$"
      ]
    },
    {
      "cell_type": "code",
      "execution_count": null,
      "id": "8a51f805",
      "metadata": {
        "id": "8a51f805",
        "outputId": "6b80164a-7701-437e-be43-dd351f9c6e2e"
      },
      "outputs": [
        {
          "name": "stdout",
          "output_type": "stream",
          "text": [
            "As the p-value 0.21298887487543447 is greater than the level of significance, we fail to reject the null hypothesis.\n"
          ]
        }
      ],
      "source": [
        "# generate conclusion based on p-value\n",
        "if p_value < 0.05:\n",
        "    print(f'As the p-value {p_value} is less than the level of significance, we reject the null hypothesis.')\n",
        "else:\n",
        "    print(f'As the p-value {p_value} is greater than the level of significance, we fail to reject the null hypothesis.')\n"
      ]
    },
    {
      "cell_type": "markdown",
      "id": "ad3902ba",
      "metadata": {
        "id": "ad3902ba"
      },
      "source": [
        "### Draw inference"
      ]
    },
    {
      "cell_type": "markdown",
      "id": "3ebd553e",
      "metadata": {
        "id": "3ebd553e"
      },
      "source": [
        "As the P-value is much greater than the level of significance we fail to reject the null hyppothesis, hence we do have enough statistical significance to conclude that converted status depends on language preferred."
      ]
    },
    {
      "cell_type": "markdown",
      "id": "8d585a90",
      "metadata": {
        "id": "8d585a90"
      },
      "source": [
        "## 4. Is the time spent on the new page same for the different language users?"
      ]
    },
    {
      "cell_type": "markdown",
      "id": "a21141a9",
      "metadata": {
        "id": "a21141a9"
      },
      "source": [
        "### Perform Visual Analysis"
      ]
    },
    {
      "cell_type": "code",
      "execution_count": null,
      "id": "cc69d6c7",
      "metadata": {
        "id": "cc69d6c7",
        "outputId": "2994e185-2666-4f8b-88b8-fc945c415c54"
      },
      "outputs": [
        {
          "data": {
            "image/png": "[encoded data removed]",
            "text/plain": [
              "<Figure size 640x480 with 1 Axes>"
            ]
          },
          "metadata": {},
          "output_type": "display_data"
        }
      ],
      "source": [
        "# create a new DataFrame for user served on the new page\n",
        "df_new = df[df['landing_page']== 'new']\n",
        "\n",
        "# creating a boxplot to visualized the time spent on the new page for different language users\n",
        "sns.boxplot(data = df_new, x='language_preferred',y = 'time_spent_on_the_page', showmeans=True);"
      ]
    },
    {
      "cell_type": "code",
      "execution_count": null,
      "id": "4f650586",
      "metadata": {
        "scrolled": true,
        "id": "4f650586",
        "outputId": "e843a66d-cce8-493e-cefe-61a33793e54a"
      },
      "outputs": [
        {
          "data": {
            "text/plain": [
              "language_preferred\n",
              "English    6.663750\n",
              "French     6.196471\n",
              "Spanish    5.835294\n",
              "Name: time_spent_on_the_page, dtype: float64"
            ]
          },
          "execution_count": 37,
          "metadata": {},
          "output_type": "execute_result"
        }
      ],
      "source": [
        "#calculate the mean time spent on the new page for different language users\n",
        "df_new.groupby(['language_preferred'])['time_spent_on_the_page'].mean()"
      ]
    },
    {
      "cell_type": "markdown",
      "id": "2bf992d4",
      "metadata": {
        "id": "2bf992d4"
      },
      "source": [
        "### Step 1: Define the null and the alternate hypothesis"
      ]
    },
    {
      "cell_type": "markdown",
      "id": "fbac7728",
      "metadata": {
        "id": "fbac7728"
      },
      "source": [
        "$H_0$: Time spent on the new page are same for all languages\n",
        "    \n",
        "$H_a$: At least time spent on the new page for one language is different"
      ]
    },
    {
      "cell_type": "markdown",
      "id": "44f6152e",
      "metadata": {
        "id": "44f6152e"
      },
      "source": [
        "### Step 2: Select the Appropiate test"
      ]
    },
    {
      "cell_type": "markdown",
      "id": "83d005e5",
      "metadata": {
        "id": "83d005e5"
      },
      "source": [
        "This is a problem concerning three population means. we will use f_oneway ANOVA test."
      ]
    },
    {
      "cell_type": "markdown",
      "id": "821d63e8",
      "metadata": {
        "id": "821d63e8"
      },
      "source": [
        "### Step 3: Decide the significance level"
      ]
    },
    {
      "cell_type": "markdown",
      "id": "a2b9483e",
      "metadata": {
        "id": "a2b9483e"
      },
      "source": [
        "As given in the problem statement we select $\\alpha$ = 0.05"
      ]
    },
    {
      "cell_type": "markdown",
      "id": "8a9e1689",
      "metadata": {
        "id": "8a9e1689"
      },
      "source": [
        "### Step 4: Collect and prepare data"
      ]
    },
    {
      "cell_type": "code",
      "execution_count": null,
      "id": "aa4537b6",
      "metadata": {
        "id": "aa4537b6"
      },
      "outputs": [],
      "source": [
        "# creat a new dataframe of time spent on the new page by English user\n",
        "time_spent_by_English = df_new[df_new['language_preferred']== 'English']['time_spent_on_the_page']\n",
        "# creat a new dataframe of time spent on the new page by French user\n",
        "time_spent_by_French = df_new[df_new['language_preferred']== 'French']['time_spent_on_the_page']\n",
        "# creat a new dataframe of time spent on the new page by Spanish user\n",
        "time_spent_by_Spanish = df_new[df_new['language_preferred']== 'Spanish']['time_spent_on_the_page']"
      ]
    },
    {
      "cell_type": "markdown",
      "id": "42266514",
      "metadata": {
        "id": "42266514"
      },
      "source": [
        "### Step 5: Calculate the p-value"
      ]
    },
    {
      "cell_type": "code",
      "execution_count": null,
      "id": "0dae4c02",
      "metadata": {
        "id": "0dae4c02",
        "outputId": "87fb98ad-6b57-4053-924a-dfe64aa95b75"
      },
      "outputs": [
        {
          "data": {
            "text/plain": [
              "0.43204138694325955"
            ]
          },
          "execution_count": 39,
          "metadata": {},
          "output_type": "execute_result"
        }
      ],
      "source": [
        "from scipy.stats import f_oneway\n",
        "test_stat, p_value = f_oneway(time_spent_by_English,time_spent_by_French,time_spent_by_Spanish)\n",
        "p_value"
      ]
    },
    {
      "cell_type": "markdown",
      "id": "c0f02c3c",
      "metadata": {
        "id": "c0f02c3c"
      },
      "source": [
        "### Step 6: Compare p-value with $\\alpha$"
      ]
    },
    {
      "cell_type": "code",
      "execution_count": null,
      "id": "97a4b4c6",
      "metadata": {
        "id": "97a4b4c6",
        "outputId": "9f12c903-95d4-46ec-b50a-fc8ac2741c91"
      },
      "outputs": [
        {
          "name": "stdout",
          "output_type": "stream",
          "text": [
            "As the p-value 0.43204138694325955 is greater than the level of significance, we fail to reject the null hypothesis.\n"
          ]
        }
      ],
      "source": [
        "# generate conclusion based on p-value\n",
        "if p_value < 0.05:\n",
        "    print(f'As the p-value {p_value} is less than the level of significance, we reject the null hypothesis.')\n",
        "else:\n",
        "    print(f'As the p-value {p_value} is greater than the level of significance, we fail to reject the null hypothesis.')\n"
      ]
    },
    {
      "cell_type": "markdown",
      "id": "fa73b930",
      "metadata": {
        "id": "fa73b930"
      },
      "source": [
        "### Step 7: Draw inference"
      ]
    },
    {
      "cell_type": "markdown",
      "id": "df61cc96",
      "metadata": {
        "id": "df61cc96"
      },
      "source": [
        "As the p_value is greater the level of significance we fail to reject the null hypothesis hence we do have enough statistical significance to conclude that time spend on the new page is almost the same for all languages."
      ]
    },
    {
      "cell_type": "markdown",
      "id": "3acbc947",
      "metadata": {
        "id": "3acbc947"
      },
      "source": [
        "## Conclusion and Business Recommendations"
      ]
    },
    {
      "cell_type": "markdown",
      "id": "16914933",
      "metadata": {
        "id": "16914933"
      },
      "source": [
        "- From the sample data, we observed that\n",
        "    - The average time spent on E-New Express' page is 5.38 minutes\n",
        "    - out of the 100 users sample 54% were converted after visting a landing page\n",
        "    - The more time a customer spends on a page the higher the likelihood of conversion as 75% of users who were         converted spent almost 7 minutes on a page.\n",
        "    - 50% of users who preferred english language spent 5.8 minutes on a page, which is the highest among the           three language preferences.\n",
        "- There is enough statistical evidence (p-value 0.000139 at 5% level of significance) to conclude that  users       spend more time on E-new Express' new landing page than the old.\n",
        "- There is not enough statistical evidence (p-value of 0.9918 at 5% level of significance) to conclude that the     proportion of users get converted on the new page is greater than old page.\n",
        "- As the P-value(0.2129) is much greater than the level of significance(5%) we do have enough statistical           significance to conclude that converted status depends on language preferred.\n",
        "- As the p_value(0.4320 is greater the level of significance(5%) we do have enough statistical significance to       conclude that time spend on the new page is almost the same for all languages.\n",
        "- For E-news Express to achieve the desired conversion rate on the new page, it should add features that will       retain users for a longer period on the page since most people who got converted spent longer time on the         page.\n"
      ]
    }
  ],
  "metadata": {
    "colab": {
      "collapsed_sections": [
        "a6a3d218",
        "6970dd99",
        "9d75cfa2",
        "68f3b2c9",
        "fad2de2f",
        "27906576",
        "e5fdf0c8",
        "56b3dafd",
        "c7ee4907",
        "3f58c9a7",
        "5fed2eac",
        "f5c5258d",
        "359b12f8",
        "d9affc84",
        "353e9d24",
        "d49bfa2d",
        "8d585a90",
        "3acbc947"
      ],
      "provenance": [],
      "include_colab_link": true
    },
    "kernelspec": {
      "display_name": "Python 3 (ipykernel)",
      "language": "python",
      "name": "python3"
    },
    "language_info": {
      "codemirror_mode": {
        "name": "ipython",
        "version": 3
      },
      "file_extension": ".py",
      "mimetype": "text/x-python",
      "name": "python",
      "nbconvert_exporter": "python",
      "pygments_lexer": "ipython3",
      "version": "3.9.13"
    }
  },
  "nbformat": 4,
  "nbformat_minor": 5
}